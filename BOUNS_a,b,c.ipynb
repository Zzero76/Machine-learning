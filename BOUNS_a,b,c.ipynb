{
  "nbformat": 4,
  "nbformat_minor": 0,
  "metadata": {
    "colab": {
      "provenance": [],
      "authorship_tag": "ABX9TyPlsORftpnaB83j+0VbPAj2",
      "include_colab_link": true
    },
    "kernelspec": {
      "name": "python3",
      "display_name": "Python 3"
    },
    "language_info": {
      "name": "python"
    }
  },
  "cells": [
    {
      "cell_type": "markdown",
      "metadata": {
        "id": "view-in-github",
        "colab_type": "text"
      },
      "source": [
        "<a href=\"https://colab.research.google.com/github/Zzero76/Machine-learning/blob/main/BOUNS_a%2Cb%2Cc.ipynb\" target=\"_parent\"><img src=\"https://colab.research.google.com/assets/colab-badge.svg\" alt=\"Open In Colab\"/></a>"
      ]
    },
    {
      "cell_type": "code",
      "source": [
        "import pandas as pd\n",
        "from sklearn.model_selection import train_test_split, GridSearchCV\n",
        "from sklearn.linear_model import LinearRegression\n",
        "from sklearn.metrics import mean_absolute_error, r2_score\n",
        "import matplotlib.pyplot as plt\n",
        "import seaborn as sns\n",
        "import numpy as np\n",
        "from sklearn.compose import ColumnTransformer\n",
        "from sklearn.pipeline import Pipeline\n",
        "from sklearn.preprocessing import PolynomialFeatures\n",
        "from sklearn.preprocessing import MinMaxScaler, PolynomialFeatures\n",
        "from sklearn.preprocessing import StandardScaler\n",
        "from sklearn.ensemble import RandomForestRegressor\n",
        "from sklearn.model_selection import GridSearchCV, RandomizedSearchCV, train_test_split\n",
        "from scipy.stats import randint as sp_randint\n",
        "from sklearn.metrics import mean_squared_error, r2_score\n",
        "\n",
        "df = pd.read_csv(\"https://raw.githubusercontent.com/Zzero76/Machine-learning/main/123.csv\")\n",
        "df = df.drop(columns=['E','F'])\n",
        "X = df.drop(columns=['AH'])\n",
        "y = df['AH']\n"
      ],
      "metadata": {
        "id": "QouJ7kzhKkrk"
      },
      "execution_count": 6,
      "outputs": []
    },
    {
      "cell_type": "code",
      "execution_count": 7,
      "metadata": {
        "colab": {
          "base_uri": "https://localhost:8080/"
        },
        "id": "dMlkwPLzKHWb",
        "outputId": "dd940dba-e5cc-4d1c-9c22-004f12dfeaaf"
      },
      "outputs": [
        {
          "output_type": "stream",
          "name": "stdout",
          "text": [
            "Enhanced Model with Cubic Features - MSE: 1.5333626014333587e+17, R²: -1095094632244612.8\n"
          ]
        }
      ],
      "source": [
        "X_train, X_test, y_train, y_test = train_test_split(X, y, test_size=0.3, random_state=42)\n",
        "# Assuming X_train and X_test are already defined\n",
        "poly_transformer = PolynomialFeatures(degree=3, include_bias=False)  # Set to cubic\n",
        "X_train_poly = poly_transformer.fit_transform(X_train)\n",
        "X_test_poly = poly_transformer.transform(X_test)\n",
        "\n",
        "# Continue with the model training process, e.g., using linear regression\n",
        "model = LinearRegression()\n",
        "model.fit(X_train_poly, y_train)\n",
        "y_pred = model.predict(X_test_poly)\n",
        "\n",
        "# Evaluate the model\n",
        "mse = mean_squared_error(y_test, y_pred)\n",
        "r2 = r2_score(y_test, y_pred)\n",
        "print(f\"Enhanced Model with Cubic Features - MSE: {mse}, R²: {r2}\")\n"
      ]
    },
    {
      "cell_type": "code",
      "source": [],
      "metadata": {
        "id": "shqRmOSHKkIc"
      },
      "execution_count": null,
      "outputs": []
    },
    {
      "cell_type": "code",
      "source": [
        "from sklearn.feature_selection import RFECV\n",
        "from sklearn.linear_model import LinearRegression\n",
        "\n",
        "# Initialize the RFE model\n",
        "selector = RFECV(estimator=LinearRegression(), step=1, cv=5, scoring='neg_mean_squared_error')\n",
        "selector = selector.fit(X_train, y_train)\n",
        "\n",
        "# Transform data based on selected features\n",
        "X_train_selected = selector.transform(X_train)\n",
        "X_test_selected = selector.transform(X_test)\n",
        "\n",
        "# Train and evaluate model with selected features\n",
        "model_selected = LinearRegression()\n",
        "model_selected.fit(X_train_selected, y_train)\n",
        "y_pred_selected = model_selected.predict(X_test_selected)\n",
        "\n",
        "# Metrics\n",
        "mse_selected = mean_squared_error(y_test, y_pred_selected)\n",
        "r2_selected = r2_score(y_test, y_pred_selected)\n",
        "print(f\"Selected Features Model - MSE: {mse_selected}, R²: {r2_selected}\")\n",
        "print(\"Features selected:\", selector.support_)\n"
      ],
      "metadata": {
        "colab": {
          "base_uri": "https://localhost:8080/"
        },
        "id": "oxdFSoRFMF8Y",
        "outputId": "ead2daf1-7d06-40b3-c6f2-bbd2b08a7d3c"
      },
      "execution_count": 8,
      "outputs": [
        {
          "output_type": "stream",
          "name": "stdout",
          "text": [
            "Selected Features Model - MSE: 53.91035322780691, R²: 0.6149838375672146\n",
            "Features selected: [ True  True  True  True  True  True  True  True  True  True  True  True\n",
            "  True  True  True  True  True  True  True  True  True False False  True\n",
            "  True  True  True  True  True  True  True]\n"
          ]
        }
      ]
    },
    {
      "cell_type": "code",
      "source": [],
      "metadata": {
        "id": "23i-d62sMF-7"
      },
      "execution_count": null,
      "outputs": []
    },
    {
      "cell_type": "code",
      "source": [
        "from sklearn.svm import SVR\n",
        "from sklearn.ensemble import RandomForestRegressor\n",
        "\n",
        "# Support Vector Regression\n",
        "model_svr = SVR(kernel='rbf')\n",
        "model_svr.fit(X_train, y_train)\n",
        "y_pred_svr = model_svr.predict(X_test)\n",
        "mse_svr = mean_squared_error(y_test, y_pred_svr)\n",
        "r2_svr = r2_score(y_test, y_pred_svr)\n",
        "\n",
        "# Random Forest Regression\n",
        "model_rf = RandomForestRegressor(n_estimators=100)\n",
        "model_rf.fit(X_train, y_train)\n",
        "y_pred_rf = model_rf.predict(X_test)\n",
        "mse_rf = mean_squared_error(y_test, y_pred_rf)\n",
        "r2_rf = r2_score(y_test, y_pred_rf)\n",
        "\n",
        "print(f\"SVR - MSE: {mse_svr}, R²: {r2_svr}\")\n",
        "print(f\"Random Forest - MSE: {mse_rf}, R²: {r2_rf}\")\n"
      ],
      "metadata": {
        "colab": {
          "base_uri": "https://localhost:8080/"
        },
        "id": "mTaMuCEuMGBU",
        "outputId": "7f98be02-2eb1-438b-f00b-14e817012a6b"
      },
      "execution_count": 9,
      "outputs": [
        {
          "output_type": "stream",
          "name": "stdout",
          "text": [
            "SVR - MSE: 122.75664063674715, R²: 0.12329844155570213\n",
            "Random Forest - MSE: 43.99210331513691, R²: 0.685817847934185\n"
          ]
        }
      ]
    },
    {
      "cell_type": "code",
      "source": [],
      "metadata": {
        "id": "2bD1EoCFMGDq"
      },
      "execution_count": null,
      "outputs": []
    }
  ]
}